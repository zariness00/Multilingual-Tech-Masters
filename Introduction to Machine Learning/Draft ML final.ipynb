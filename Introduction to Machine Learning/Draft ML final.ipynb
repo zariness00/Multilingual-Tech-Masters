{
 "cells": [
  {
   "cell_type": "code",
   "execution_count": 44,
   "metadata": {},
   "outputs": [],
   "source": [
    "import pandas as pd\n",
    "import numpy as np\n",
    "from sklearn.feature_extraction.text import TfidfVectorizer\n",
    "from sklearn.model_selection import train_test_split\n",
    "from sklearn.preprocessing import OneHotEncoder\n",
    "from xgboost import XGBRegressor\n",
    "from sklearn.metrics import mean_squared_error, r2_score\n",
    "import warnings\n",
    "warnings.filterwarnings('ignore')\n"
   ]
  },
  {
   "cell_type": "code",
   "execution_count": 34,
   "metadata": {
    "scrolled": true
   },
   "outputs": [
    {
     "data": {
      "text/html": [
       "<div>\n",
       "<style scoped>\n",
       "    .dataframe tbody tr th:only-of-type {\n",
       "        vertical-align: middle;\n",
       "    }\n",
       "\n",
       "    .dataframe tbody tr th {\n",
       "        vertical-align: top;\n",
       "    }\n",
       "\n",
       "    .dataframe thead th {\n",
       "        text-align: right;\n",
       "    }\n",
       "</style>\n",
       "<table border=\"1\" class=\"dataframe\">\n",
       "  <thead>\n",
       "    <tr style=\"text-align: right;\">\n",
       "      <th></th>\n",
       "      <th>Restaurant_name</th>\n",
       "      <th>Rating</th>\n",
       "      <th>Category</th>\n",
       "      <th>Dish_name</th>\n",
       "      <th>Description</th>\n",
       "      <th>Price</th>\n",
       "    </tr>\n",
       "  </thead>\n",
       "  <tbody>\n",
       "    <tr>\n",
       "      <th>0</th>\n",
       "      <td>ABC</td>\n",
       "      <td>4.3</td>\n",
       "      <td>Breakfast</td>\n",
       "      <td>Scrambled eggs</td>\n",
       "      <td>Scrambled eggs served with greens...</td>\n",
       "      <td>3.5</td>\n",
       "    </tr>\n",
       "    <tr>\n",
       "      <th>1</th>\n",
       "      <td>DEF</td>\n",
       "      <td>4.7</td>\n",
       "      <td>Salads</td>\n",
       "      <td>Salad cucumbers with garlic</td>\n",
       "      <td>Cucumber, garlic</td>\n",
       "      <td>5.5</td>\n",
       "    </tr>\n",
       "    <tr>\n",
       "      <th>2</th>\n",
       "      <td>GHI</td>\n",
       "      <td>3.4</td>\n",
       "      <td>Soups</td>\n",
       "      <td>Chicken noodle soup</td>\n",
       "      <td>Light chicken soup...</td>\n",
       "      <td>3.0</td>\n",
       "    </tr>\n",
       "    <tr>\n",
       "      <th>3</th>\n",
       "      <td>JKL</td>\n",
       "      <td>5.0</td>\n",
       "      <td>Second Meal</td>\n",
       "      <td>Pepper Roast (Trout Fish Fillet)</td>\n",
       "      <td>Juicy pieces of trout...</td>\n",
       "      <td>12.5</td>\n",
       "    </tr>\n",
       "  </tbody>\n",
       "</table>\n",
       "</div>"
      ],
      "text/plain": [
       "  Restaurant_name  Rating     Category                         Dish_name  \\\n",
       "0             ABC     4.3    Breakfast                    Scrambled eggs   \n",
       "1             DEF     4.7       Salads       Salad cucumbers with garlic   \n",
       "2             GHI     3.4        Soups               Chicken noodle soup   \n",
       "3             JKL     5.0  Second Meal  Pepper Roast (Trout Fish Fillet)   \n",
       "\n",
       "                            Description  Price  \n",
       "0  Scrambled eggs served with greens...    3.5  \n",
       "1                      Cucumber, garlic    5.5  \n",
       "2                 Light chicken soup...    3.0  \n",
       "3              Juicy pieces of trout...   12.5  "
      ]
     },
     "execution_count": 34,
     "metadata": {},
     "output_type": "execute_result"
    }
   ],
   "source": [
    "# Load dataset\n",
    "df = pd.DataFrame({'Restaurant_name': [\"ABC\", \"DEF\", \"GHI\", \"JKL\"],\n",
    "                   'Rating': [4.3, 4.7, 3.4, 5.0],\n",
    "                   'Category': ['Breakfast', 'Salads', 'Soups', 'Second Meal'],\n",
    "                   'Dish_name': ['Scrambled eggs', 'Salad cucumbers with garlic', \n",
    "                                 'Chicken noodle soup', 'Pepper Roast (Trout Fish Fillet)'],\n",
    "                   'Description': ['Scrambled eggs served with greens...', \n",
    "                                   'Cucumber, garlic', 'Light chicken soup...', \n",
    "                                   'Juicy pieces of trout...'],\n",
    "                   'Price': [3.50, 5.50, 3, 12.50]\n",
    "                   })\n",
    "df.head()"
   ]
  },
  {
   "cell_type": "code",
   "execution_count": 35,
   "metadata": {},
   "outputs": [
    {
     "name": "stdout",
     "output_type": "stream",
     "text": [
      "      Category                         Dish_name  \\\n",
      "0    Breakfast                    Scrambled eggs   \n",
      "1       Salads       Salad cucumbers with garlic   \n",
      "2        Soups               Chicken noodle soup   \n",
      "3  Second Meal  Pepper Roast (Trout Fish Fillet)   \n",
      "\n",
      "                            Description  Price  \n",
      "0  Scrambled eggs served with greens...    3.5  \n",
      "1                      Cucumber, garlic    5.5  \n",
      "2                 Light chicken soup...    3.0  \n",
      "3              Juicy pieces of trout...   12.5  \n"
     ]
    }
   ],
   "source": [
    "df = df.drop([\"Restaurant_name\", \"Rating\"], axis=1)\n",
    "print(df)"
   ]
  },
  {
   "cell_type": "code",
   "execution_count": 36,
   "metadata": {},
   "outputs": [],
   "source": []
  },
  {
   "cell_type": "code",
   "execution_count": 37,
   "metadata": {},
   "outputs": [
    {
     "name": "stdout",
     "output_type": "stream",
     "text": [
      "Encoded Matrix:\n",
      " [[1. 0. 0. 0.]\n",
      " [0. 1. 0. 0.]\n",
      " [0. 0. 0. 1.]\n",
      " [0. 0. 1. 0.]]\n"
     ]
    }
   ],
   "source": [
    "# define one hot encoding\n",
    "encoder = OneHotEncoder(sparse=False)\n",
    "\n",
    "# transform data\n",
    "onehot_columns = encoder.fit_transform(df[['Category']])\n",
    "print(\"Encoded Matrix:\\n\", onehot_columns)"
   ]
  },
  {
   "cell_type": "code",
   "execution_count": 38,
   "metadata": {},
   "outputs": [],
   "source": [
    "tf1 = TfidfVectorizer(ngram_range=(1, 1), lowercase=True, stop_words='english')\n",
    "df_dish_name = tf1.fit_transform(df['Dish_name'])\n",
    "df_dish_name = pd.DataFrame(data=df_dish_name.toarray(), columns=tf1.get_feature_names_out())\n",
    "\n",
    "tf2 = TfidfVectorizer(ngram_range=(1, 1), lowercase=True, stop_words='english')\n",
    "df_description = tf2.fit_transform(df['Description'])\n",
    "df_dscription = pd.DataFrame(data=df_description.toarray(), columns=tf2.get_feature_names_out())"
   ]
  },
  {
   "cell_type": "code",
   "execution_count": 39,
   "metadata": {},
   "outputs": [
    {
     "name": "stdout",
     "output_type": "stream",
     "text": [
      "TF-IDF Features for Dish Names:\n",
      "   chicken  cucumbers      eggs    fillet      fish   garlic   noodle  \\\n",
      "0  0.00000    0.00000  0.707107  0.000000  0.000000  0.00000  0.00000   \n",
      "1  0.00000    0.57735  0.000000  0.000000  0.000000  0.57735  0.00000   \n",
      "2  0.57735    0.00000  0.000000  0.000000  0.000000  0.00000  0.57735   \n",
      "3  0.00000    0.00000  0.000000  0.447214  0.447214  0.00000  0.00000   \n",
      "\n",
      "     pepper     roast    salad  scrambled     soup     trout  \n",
      "0  0.000000  0.000000  0.00000   0.707107  0.00000  0.000000  \n",
      "1  0.000000  0.000000  0.57735   0.000000  0.00000  0.000000  \n",
      "2  0.000000  0.000000  0.00000   0.000000  0.57735  0.000000  \n",
      "3  0.447214  0.447214  0.00000   0.000000  0.00000  0.447214  \n",
      "\n",
      "TF-IDF Features for Descriptions:\n",
      "   chicken  cucumber  eggs    garlic  greens    juicy    light   pieces  \\\n",
      "0  0.00000  0.000000   0.5  0.000000     0.5  0.00000  0.00000  0.00000   \n",
      "1  0.00000  0.707107   0.0  0.707107     0.0  0.00000  0.00000  0.00000   \n",
      "2  0.57735  0.000000   0.0  0.000000     0.0  0.00000  0.57735  0.00000   \n",
      "3  0.00000  0.000000   0.0  0.000000     0.0  0.57735  0.00000  0.57735   \n",
      "\n",
      "   scrambled  served     soup    trout  \n",
      "0        0.5     0.5  0.00000  0.00000  \n",
      "1        0.0     0.0  0.00000  0.00000  \n",
      "2        0.0     0.0  0.57735  0.00000  \n",
      "3        0.0     0.0  0.00000  0.57735  \n"
     ]
    }
   ],
   "source": [
    "print(\"TF-IDF Features for Dish Names:\")\n",
    "print(df_dish_name)\n",
    "\n",
    "print(\"\\nTF-IDF Features for Descriptions:\")\n",
    "print(df_dscription) "
   ]
  },
  {
   "cell_type": "code",
   "execution_count": 41,
   "metadata": {
    "scrolled": true
   },
   "outputs": [
    {
     "name": "stdout",
     "output_type": "stream",
     "text": [
      "One-hot encoded shape: (4, 4)\n",
      "TF-IDF Dish Name shape: (4, 13)\n",
      "TF-IDF Description shape: (4, 12)\n"
     ]
    }
   ],
   "source": [
    "print(\"One-hot encoded shape:\", onehot_columns.shape)\n",
    "print(\"TF-IDF Dish Name shape:\", df_dish_name.shape)\n",
    "print(\"TF-IDF Description shape:\", df_description.shape)"
   ]
  },
  {
   "cell_type": "code",
   "execution_count": 46,
   "metadata": {},
   "outputs": [
    {
     "name": "stdout",
     "output_type": "stream",
     "text": [
      "<class 'numpy.ndarray'>\n",
      "<class 'pandas.core.frame.DataFrame'>\n",
      "<class 'scipy.sparse._csr.csr_matrix'>\n"
     ]
    }
   ],
   "source": [
    "print(type(onehot_columns))\n",
    "print(type(df_dish_name))\n",
    "print(type(df_description))"
   ]
  },
  {
   "cell_type": "code",
   "execution_count": 47,
   "metadata": {},
   "outputs": [
    {
     "name": "stdout",
     "output_type": "stream",
     "text": [
      "Combined Features DataFrame:\n",
      "   Breakfast  Salads  Second Meal  Soups  chicken  cucumbers      eggs  \\\n",
      "0        1.0     0.0          0.0    0.0  0.00000    0.00000  0.707107   \n",
      "1        0.0     1.0          0.0    0.0  0.00000    0.57735  0.000000   \n",
      "2        0.0     0.0          0.0    1.0  0.57735    0.00000  0.000000   \n",
      "3        0.0     0.0          1.0    0.0  0.00000    0.00000  0.000000   \n",
      "\n",
      "     fillet      fish   garlic  ...  eggs    garlic  greens    juicy    light  \\\n",
      "0  0.000000  0.000000  0.00000  ...   0.5  0.000000     0.5  0.00000  0.00000   \n",
      "1  0.000000  0.000000  0.57735  ...   0.0  0.707107     0.0  0.00000  0.00000   \n",
      "2  0.000000  0.000000  0.00000  ...   0.0  0.000000     0.0  0.00000  0.57735   \n",
      "3  0.447214  0.447214  0.00000  ...   0.0  0.000000     0.0  0.57735  0.00000   \n",
      "\n",
      "    pieces  scrambled  served     soup    trout  \n",
      "0  0.00000        0.5     0.5  0.00000  0.00000  \n",
      "1  0.00000        0.0     0.0  0.00000  0.00000  \n",
      "2  0.00000        0.0     0.0  0.57735  0.00000  \n",
      "3  0.57735        0.0     0.0  0.00000  0.57735  \n",
      "\n",
      "[4 rows x 29 columns]\n"
     ]
    }
   ],
   "source": [
    "df_dish_name = df_dish_name.to_numpy()\n",
    "df_description = df_description.toarray()\n",
    "combined_features = np.hstack([onehot_columns, df_dish_name, df_description])\n",
    "\n",
    "combined_df = pd.DataFrame(combined_features, columns=(\n",
    "    list(encoder.categories_[0]) +                \n",
    "    list(tf1.get_feature_names_out()) +           \n",
    "    list(tf2.get_feature_names_out())             \n",
    "))\n",
    "\n",
    "print(\"Combined features dataFrame:\")\n",
    "print(combined_df.head())\n"
   ]
  },
  {
   "cell_type": "code",
   "execution_count": null,
   "metadata": {},
   "outputs": [],
   "source": [
    "import lightgbm as lgb\n",
    "train_data = lgb.Dataset(X_train, label=y_train)\n",
    "test_data = lgb.Dataset(X_cv, label=y_cv)\n",
    "\n",
    "param = {'objective': 'regression',\n",
    "         'boosting': 'gbdt',  \n",
    "         'metric': 'l2_root',\n",
    "         'learning_rate': 0.05, \n",
    "         'num_iterations': 350,\n",
    "         'num_leaves': 31,\n",
    "         'max_depth': -1,\n",
    "         'min_data_in_leaf': 15,\n",
    "         'bagging_fraction': 0.85,\n",
    "         'bagging_freq': 1,\n",
    "         'feature_fraction': 0.55\n",
    "         }\n",
    "\n",
    "lgbm = lgb.train(params=param,\n",
    "                 verbose_eval=50,\n",
    "                 train_set=train_data,\n",
    "                 valid_sets=[test_data])\n"
   ]
  },
  {
   "cell_type": "code",
   "execution_count": null,
   "metadata": {},
   "outputs": [],
   "source": [
    "\n"
   ]
  }
 ],
 "metadata": {
  "kernelspec": {
   "display_name": "Python 3",
   "language": "python",
   "name": "python3"
  },
  "language_info": {
   "codemirror_mode": {
    "name": "ipython",
    "version": 3
   },
   "file_extension": ".py",
   "mimetype": "text/x-python",
   "name": "python",
   "nbconvert_exporter": "python",
   "pygments_lexer": "ipython3",
   "version": "3.8.5"
  }
 },
 "nbformat": 4,
 "nbformat_minor": 4
}
